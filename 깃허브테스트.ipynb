{
  "cells": [
    {
      "cell_type": "markdown",
      "id": "cb69bb77-0c52-4e94-ada1-14ed210ecc0b",
      "metadata": {
        "id": "cb69bb77-0c52-4e94-ada1-14ed210ecc0b"
      },
      "source": [
        "1. 깃허브 테스트"
      ]
    },
    {
      "cell_type": "code",
      "execution_count": null,
      "id": "p_6SmofT5y5p",
      "metadata": {
        "id": "p_6SmofT5y5p"
      },
      "outputs": [],
      "source": [
        "test text"
      ]
    },
    {
      "cell_type": "code",
      "execution_count": null,
      "id": "98d02ccd-79d0-443c-b04d-6b57db02319e",
      "metadata": {
        "id": "98d02ccd-79d0-443c-b04d-6b57db02319e"
      },
      "outputs": [],
      "source": [
        "dsffds"
      ]
    },
    {
      "cell_type": "code",
      "execution_count": null,
      "metadata": {},
      "outputs": [],
      "source": [
        "test 2"
      ]
    }
  ],
  "metadata": {
    "colab": {
      "collapsed_sections": [],
      "name": "깃허브테스트.ipynb",
      "provenance": []
    },
    "kernelspec": {
      "display_name": "Python 3",
      "language": "python",
      "name": "python3"
    },
    "language_info": {
      "codemirror_mode": {
        "name": "ipython",
        "version": 3
      },
      "file_extension": ".py",
      "mimetype": "text/x-python",
      "name": "python",
      "nbconvert_exporter": "python",
      "pygments_lexer": "ipython3",
      "version": "3.8.8"
    }
  },
  "nbformat": 4,
  "nbformat_minor": 5
}

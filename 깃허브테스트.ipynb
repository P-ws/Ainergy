{
 "cells": [
  {
   "cell_type": "markdown",
   "id": "cb69bb77-0c52-4e94-ada1-14ed210ecc0b",
   "metadata": {},
   "source": [
    "1. 깃허브 테스트"
   ]
  },
  {
   "cell_type": "code",
   "execution_count": null,
   "id": "98d02ccd-79d0-443c-b04d-6b57db02319e",
   "metadata": {},
   "outputs": [],
   "source": [
    "dsffds"
   ]
  },
  {
   "cell_type": "markdown",
   "id": "50d2ac58-1662-4a0e-b6a7-85e6c706a3fc",
   "metadata": {},
   "source": [
    "### 북마크 - 정훈"
   ]
  },
  {
   "cell_type": "code",
   "execution_count": null,
   "id": "033facac-db6e-4326-bb7e-f6f289d4719f",
   "metadata": {},
   "outputs": [],
   "source": []
  }
 ],
 "metadata": {
  "kernelspec": {
   "display_name": "Python 3",
   "language": "python",
   "name": "python3"
  },
  "language_info": {
   "codemirror_mode": {
    "name": "ipython",
    "version": 3
   },
   "file_extension": ".py",
   "mimetype": "text/x-python",
   "name": "python",
   "nbconvert_exporter": "python",
   "pygments_lexer": "ipython3",
   "version": "3.8.8"
  }
 },
 "nbformat": 4,
 "nbformat_minor": 5
}

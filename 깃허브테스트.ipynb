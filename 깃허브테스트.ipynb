{
 "cells": [
  {
   "cell_type": "markdown",
   "id": "cb69bb77-0c52-4e94-ada1-14ed210ecc0b",
   "metadata": {},
   "source": [
    "1. 깃허브 테스트"
   ]
  },
  {
   "cell_type": "code",
   "execution_count": null,
   "metadata": {},
   "outputs": [],
   "source": []
  },
  {
   "cell_type": "markdown",
   "metadata": {},
   "source": [
    "박선홍\n",
    "- test df df"
   ]
  },
  {
   "cell_type": "code",
   "execution_count": null,
   "id": "98d02ccd-79d0-443c-b04d-6b57db02319e",
   "metadata": {},
   "outputs": [],
   "source": [
    "dsffds"
   ]
  }
 ],
 "metadata": {
  "kernelspec": {
   "display_name": "Python 3",
   "language": "python",
   "name": "python3"
  },
  "language_info": {
   "codemirror_mode": {
    "name": "ipython",
    "version": 3
   },
   "file_extension": ".py",
   "mimetype": "text/x-python",
   "name": "python",
   "nbconvert_exporter": "python",
   "pygments_lexer": "ipython3",
   "version": "3.8.8"
  }
 },
 "nbformat": 4,
 "nbformat_minor": 5
}
